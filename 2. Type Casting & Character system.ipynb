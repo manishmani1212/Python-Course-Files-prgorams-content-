{
 "cells": [
  {
   "cell_type": "markdown",
   "id": "5dd6176e",
   "metadata": {},
   "source": [
    "<h1>Type Casting</h1><br>\n",
    "<h4><i>conversion of one datatype to another datatype. There are some functions which is used for python type casting</i></h4>\n",
    "\n",
    "-int()\n",
    "-float()\n",
    "-str()\n",
    "-bool()\n",
    "-list()\n",
    "-tuple()\n",
    "-set()"
   ]
  },
  {
   "cell_type": "markdown",
   "id": "00d0073e",
   "metadata": {},
   "source": [
    "1. convert int to float"
   ]
  },
  {
   "cell_type": "code",
   "execution_count": 4,
   "id": "51c7b43b",
   "metadata": {},
   "outputs": [
    {
     "name": "stdout",
     "output_type": "stream",
     "text": [
      "123 <class 'int'>\n",
      "123.0 <class 'float'>\n"
     ]
    }
   ],
   "source": [
    "x = 123\n",
    "print(x,type(x))\n",
    "y = float(x)\n",
    "print(y,type(y))"
   ]
  },
  {
   "cell_type": "markdown",
   "id": "0664189c",
   "metadata": {},
   "source": [
    "2. convert float to int"
   ]
  },
  {
   "cell_type": "code",
   "execution_count": 5,
   "id": "e6f85507",
   "metadata": {},
   "outputs": [
    {
     "name": "stdout",
     "output_type": "stream",
     "text": [
      "123.123 <class 'float'>\n",
      "123 <class 'int'>\n"
     ]
    }
   ],
   "source": [
    "x = 123.123\n",
    "print(x,type(x))\n",
    "y = int(x)\n",
    "print(y,type(y))"
   ]
  },
  {
   "cell_type": "markdown",
   "id": "fc745a82",
   "metadata": {},
   "source": [
    "3. convert int to string"
   ]
  },
  {
   "cell_type": "code",
   "execution_count": 10,
   "id": "133f658a",
   "metadata": {},
   "outputs": [
    {
     "name": "stdout",
     "output_type": "stream",
     "text": [
      "34 <class 'int'>\n",
      "34 <class 'str'>\n"
     ]
    }
   ],
   "source": [
    "x = 34\n",
    "y = str(x)\n",
    "print(x,type(x))\n",
    "print(y,type(y))"
   ]
  },
  {
   "cell_type": "markdown",
   "id": "f2821a6f",
   "metadata": {},
   "source": [
    "4. convert float to string"
   ]
  },
  {
   "cell_type": "code",
   "execution_count": 11,
   "id": "839eceb3",
   "metadata": {},
   "outputs": [
    {
     "name": "stdout",
     "output_type": "stream",
     "text": [
      "34.23 <class 'float'>\n",
      "34.23 <class 'str'>\n"
     ]
    }
   ],
   "source": [
    "x = 34.23\n",
    "y = str(x)\n",
    "print(x,type(x))\n",
    "print(y,type(y))"
   ]
  },
  {
   "cell_type": "markdown",
   "id": "ee7bb77f",
   "metadata": {},
   "source": [
    "5. convert str(num) to int\n"
   ]
  },
  {
   "cell_type": "code",
   "execution_count": 12,
   "id": "84ae0980",
   "metadata": {},
   "outputs": [
    {
     "name": "stdout",
     "output_type": "stream",
     "text": [
      "123 <class 'str'>\n",
      "123 <class 'int'>\n"
     ]
    }
   ],
   "source": [
    "x = \"123\"\n",
    "y = int(x)\n",
    "print(x,type(x))\n",
    "print(y,type(y))"
   ]
  },
  {
   "cell_type": "markdown",
   "id": "59fcbed0",
   "metadata": {},
   "source": [
    "6. convert str(float) to float"
   ]
  },
  {
   "cell_type": "code",
   "execution_count": 13,
   "id": "d5aab881",
   "metadata": {},
   "outputs": [
    {
     "name": "stdout",
     "output_type": "stream",
     "text": [
      "12.3 <class 'str'>\n",
      "12.3 <class 'float'>\n"
     ]
    }
   ],
   "source": [
    "x = \"12.3\"\n",
    "y = float(x)\n",
    "print(x,type(x))\n",
    "print(y,type(y))"
   ]
  },
  {
   "cell_type": "markdown",
   "id": "44b5784a",
   "metadata": {},
   "source": [
    "7. convert into boolean"
   ]
  },
  {
   "cell_type": "code",
   "execution_count": 22,
   "id": "feedba5d",
   "metadata": {},
   "outputs": [
    {
     "name": "stdout",
     "output_type": "stream",
     "text": [
      "True\n",
      "True\n",
      "True\n",
      "True\n",
      "False\n",
      "False\n",
      "False\n",
      "1 hii\n",
      "a+b = 3\n"
     ]
    }
   ],
   "source": [
    "a = 1\n",
    "b = \"hii\"\n",
    "c = 2.3\n",
    "d = True\n",
    "e = None\n",
    "f = 0\n",
    "g = False\n",
    "print(bool(a))\n",
    "print(bool(b))\n",
    "print(bool(c))\n",
    "print(bool(d))\n",
    "print(bool(e))\n",
    "print(bool(f))\n",
    "print(bool(g))\n",
    "print(str(a)+\" \"+b)\n",
    "print(f\"a+b = {a+int(c)}\")"
   ]
  },
  {
   "cell_type": "code",
   "execution_count": 26,
   "id": "b5fac57e",
   "metadata": {},
   "outputs": [
    {
     "name": "stdout",
     "output_type": "stream",
     "text": [
      "55.0\n",
      "2\n",
      "1\n",
      "0.0\n",
      "True\n",
      "False\n",
      "True\n",
      "True\n",
      "False\n"
     ]
    }
   ],
   "source": [
    "print(float(55))\n",
    "print(int(2.3))\n",
    "print(int(True))\n",
    "print(float(False))\n",
    "print(bool(\" \"))\n",
    "print(bool(\"\"))\n",
    "print(bool(34))\n",
    "print(bool(-2))\n",
    "print(bool())"
   ]
  },
  {
   "cell_type": "code",
   "execution_count": 30,
   "id": "aa73e204",
   "metadata": {},
   "outputs": [
    {
     "name": "stdout",
     "output_type": "stream",
     "text": [
      "0b1\n",
      "0b10010\n"
     ]
    }
   ],
   "source": [
    "print(bin(1)) # bin() gives binary values of digits\n",
    "print(bin(18))"
   ]
  },
  {
   "cell_type": "markdown",
   "id": "db7758ba",
   "metadata": {},
   "source": [
    "<h1>character system : </h1><br>\n",
    "<p>It is representation of all symbols of a language using constant integers values.</p>"
   ]
  },
  {
   "cell_type": "markdown",
   "id": "ec4f70b7",
   "metadata": {},
   "source": [
    "<h4>ASCII - Americans standard code for Information Interchange</h4>"
   ]
  },
  {
   "cell_type": "markdown",
   "id": "54f1a053",
   "metadata": {},
   "source": [
    "<p>\n",
    "<i>\n",
    "represents all symbols in 1 language using constants - It includes small, capital alphabets, numbers, alpha numerics.<br>\n",
    "Range is 0 - 255<br>\n",
    "1 byte range is (0 - 255)-> 2^8 value<br>\n",
    "Hence we rep a symbol using 1 byte memory.<br>\n",
    "chr() - Returns the symbol for specified integer value.<br>\n",
    "ord() - Returns Ascii value.\n",
    "</i>\n",
    "</p>"
   ]
  },
  {
   "cell_type": "code",
   "execution_count": 38,
   "id": "0162c777",
   "metadata": {},
   "outputs": [
    {
     "name": "stdout",
     "output_type": "stream",
     "text": [
      "A\n",
      "97\n",
      "38\n"
     ]
    }
   ],
   "source": [
    "print(chr(65))\n",
    "print(ord('a'))\n",
    "print(ord('&'))"
   ]
  },
  {
   "cell_type": "code",
   "execution_count": null,
   "id": "168e3a05",
   "metadata": {},
   "outputs": [],
   "source": []
  }
 ],
 "metadata": {
  "kernelspec": {
   "display_name": "Python 3 (ipykernel)",
   "language": "python",
   "name": "python3"
  },
  "language_info": {
   "codemirror_mode": {
    "name": "ipython",
    "version": 3
   },
   "file_extension": ".py",
   "mimetype": "text/x-python",
   "name": "python",
   "nbconvert_exporter": "python",
   "pygments_lexer": "ipython3",
   "version": "3.11.0"
  }
 },
 "nbformat": 4,
 "nbformat_minor": 5
}
