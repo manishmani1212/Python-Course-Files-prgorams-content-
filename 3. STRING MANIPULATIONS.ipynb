{
 "cells": [
  {
   "cell_type": "markdown",
   "id": "e5035b3b",
   "metadata": {},
   "source": [
    "<b>1. INDEXING & SLICING"
   ]
  },
  {
   "cell_type": "markdown",
   "id": "5aefde9c",
   "metadata": {},
   "source": [
    "<p> we can access elements by indexing and slicing.\n",
    "\n",
    "sequence datatypes are strings,list,tuple."
   ]
  },
  {
   "cell_type": "markdown",
   "id": "5a5f5071",
   "metadata": {},
   "source": [
    "<i><b>indexing</b> : It is used to obtain individual elements. starts from 0.negative indexing starts from -1 it represents last element.\n",
    "\n",
    "<i><b>Slicing</b> : It obtains a sequence of elements."
   ]
  },
  {
   "cell_type": "markdown",
   "id": "657a84c2",
   "metadata": {},
   "source": [
    "str = \"python\"\n",
    "\n",
    "-6 -5 -4 -3 -2 -1  -  negative indexing/backward indexing<br>\n",
    " p  y  t  h  o  n<br>\n",
    " 0  1  2  3  4  5  -  positive indexing/forward indexing"
   ]
  },
  {
   "cell_type": "code",
   "execution_count": 15,
   "id": "4d359502",
   "metadata": {},
   "outputs": [
    {
     "name": "stdout",
     "output_type": "stream",
     "text": [
      "E\n",
      "n\n",
      "v\n",
      "i\n",
      "r\n",
      "o\n",
      "n\n",
      "m\n",
      "e\n",
      "n\n",
      "t\n",
      "t\n",
      "n\n",
      "e\n",
      "m\n",
      "n\n",
      "11\n"
     ]
    }
   ],
   "source": [
    "x = \"Environment\"\n",
    "print(x[0])\n",
    "print(x[1])\n",
    "print(x[2])\n",
    "print(x[3])\n",
    "print(x[4])\n",
    "print(x[5])\n",
    "print(x[6])\n",
    "print(x[7])\n",
    "print(x[8])\n",
    "print(x[9])\n",
    "print(x[10])\n",
    "print(x[-1])\n",
    "print(x[-2])\n",
    "print(x[-3])\n",
    "print(x[-4])\n",
    "print(x[-5])\n",
    "print(len(x))"
   ]
  },
  {
   "cell_type": "code",
   "execution_count": 21,
   "id": "b65f8e84",
   "metadata": {},
   "outputs": [
    {
     "name": "stdout",
     "output_type": "stream",
     "text": [
      "nam\n"
     ]
    }
   ],
   "source": [
    "# Reverse a string using slicing\n",
    "x = \"man\"\n",
    "y = x[::-1]\n",
    "print(y)"
   ]
  },
  {
   "cell_type": "code",
   "execution_count": 31,
   "id": "4611b0c3",
   "metadata": {},
   "outputs": [
    {
     "name": "stdout",
     "output_type": "stream",
     "text": [
      "ali ba\n",
      "ali bab\n",
      "baba\n",
      "ali \n",
      "aibb\n"
     ]
    }
   ],
   "source": [
    "# SLICING start : stop : skip\n",
    "\n",
    "str = \"ali baba\"\n",
    "print(str[0:6])\n",
    "print(str[0:7])\n",
    "print(str[4:]) # after index 4\n",
    "print(str[:4]) # before index 4\n",
    "print(str[0:8:2])"
   ]
  },
  {
   "cell_type": "code",
   "execution_count": null,
   "id": "436e9361",
   "metadata": {},
   "outputs": [],
   "source": []
  }
 ],
 "metadata": {
  "kernelspec": {
   "display_name": "Python 3 (ipykernel)",
   "language": "python",
   "name": "python3"
  },
  "language_info": {
   "codemirror_mode": {
    "name": "ipython",
    "version": 3
   },
   "file_extension": ".py",
   "mimetype": "text/x-python",
   "name": "python",
   "nbconvert_exporter": "python",
   "pygments_lexer": "ipython3",
   "version": "3.11.0"
  }
 },
 "nbformat": 4,
 "nbformat_minor": 5
}
