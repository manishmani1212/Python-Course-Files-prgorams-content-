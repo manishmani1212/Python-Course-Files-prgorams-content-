{
 "cells": [
  {
   "cell_type": "markdown",
   "id": "e5035b3b",
   "metadata": {},
   "source": [
    "<b>1. INDEXING & SLICING"
   ]
  },
  {
   "cell_type": "markdown",
   "id": "5aefde9c",
   "metadata": {},
   "source": [
    "<p> we can access elements by indexing and slicing.\n",
    "\n",
    "sequence datatypes are strings,list,tuple."
   ]
  },
  {
   "cell_type": "markdown",
   "id": "5a5f5071",
   "metadata": {},
   "source": [
    "<i><b>indexing</b> : It is used to obtain individual elements. starts from 0.negative indexing starts from -1 it represents last element.\n",
    "\n",
    "<i><b>Slicing</b> : It obtains a sequence of elements."
   ]
  },
  {
   "cell_type": "markdown",
   "id": "657a84c2",
   "metadata": {},
   "source": [
    "str = \"python\"\n",
    "\n",
    "-6 -5 -4 -3 -2 -1  -  negative indexing/backward indexing<br>\n",
    " p  y  t  h  o  n<br>\n",
    " 0  1  2  3  4  5  -  positive indexing/forward indexing"
   ]
  },
  {
   "cell_type": "code",
   "execution_count": 15,
   "id": "4d359502",
   "metadata": {},
   "outputs": [
    {
     "name": "stdout",
     "output_type": "stream",
     "text": [
      "E\n",
      "n\n",
      "v\n",
      "i\n",
      "r\n",
      "o\n",
      "n\n",
      "m\n",
      "e\n",
      "n\n",
      "t\n",
      "t\n",
      "n\n",
      "e\n",
      "m\n",
      "n\n",
      "11\n"
     ]
    }
   ],
   "source": [
    "x = \"Environment\"\n",
    "print(x[0])\n",
    "print(x[1])\n",
    "print(x[2])\n",
    "print(x[3])\n",
    "print(x[4])\n",
    "print(x[5])\n",
    "print(x[6])\n",
    "print(x[7])\n",
    "print(x[8])\n",
    "print(x[9])\n",
    "print(x[10])\n",
    "print(x[-1])\n",
    "print(x[-2])\n",
    "print(x[-3])\n",
    "print(x[-4])\n",
    "print(x[-5])\n",
    "print(len(x))"
   ]
  },
  {
   "cell_type": "code",
   "execution_count": 21,
   "id": "b65f8e84",
   "metadata": {},
   "outputs": [
    {
     "name": "stdout",
     "output_type": "stream",
     "text": [
      "nam\n"
     ]
    }
   ],
   "source": [
    "# Reverse a string using slicing\n",
    "x = \"man\"\n",
    "y = x[::-1]\n",
    "print(y)"
   ]
  },
  {
   "cell_type": "code",
   "execution_count": 17,
   "id": "4611b0c3",
   "metadata": {},
   "outputs": [
    {
     "name": "stdout",
     "output_type": "stream",
     "text": [
      "ali ba\n",
      "ali bab\n",
      "baba\n",
      "ali \n",
      "aibb\n",
      "ali baba\n",
      "ali \n",
      "baba\n"
     ]
    }
   ],
   "source": [
    "# SLICING start : stop : skip\n",
    "# give n+1 for getting correct output\n",
    "\n",
    "str = \"ali baba\"\n",
    "print(str[0:6])\n",
    "print(str[0:7])\n",
    "print(str[4:]) # after index 4\n",
    "print(str[:4]) # before index 4\n",
    "print(str[0:8:2])\n",
    "print(str[-9:])\n",
    "print(str[-9:-4])\n",
    "print(str[-4:])"
   ]
  },
  {
   "cell_type": "code",
   "execution_count": 18,
   "id": "436e9361",
   "metadata": {},
   "outputs": [
    {
     "name": "stdout",
     "output_type": "stream",
     "text": [
      "Taj\n",
      "Taj mahal\n",
      "laham jaT\n",
      "mhl\n",
      "laham\n",
      "jaT\n"
     ]
    }
   ],
   "source": [
    "b = \"Taj mahal\"\n",
    "print(b[0:3])\n",
    "print(b[::1])\n",
    "print(b[::-1])\n",
    "print(b[4::2])\n",
    "print(b[-1:-6:-1])\n",
    "print(b[-7::-1])"
   ]
  },
  {
   "cell_type": "code",
   "execution_count": 32,
   "id": "36faf34e",
   "metadata": {},
   "outputs": [
    {
     "name": "stdout",
     "output_type": "stream",
     "text": [
      "Alluri\n",
      "sitha\n",
      "rama\n",
      "raju\n",
      "Alluri sitha rama raju\n",
      "Alluri sitha rama raju\n",
      "ujar\n",
      "amar\n",
      "ahtis\n",
      "irullA\n",
      "ujar amar ahtis irullA\n"
     ]
    }
   ],
   "source": [
    "s = \"Alluri sitha rama raju\"\n",
    "\n",
    "# forward slicing\n",
    "print(s[0:6])\n",
    "print(s[7:12])\n",
    "print(s[13:17])\n",
    "print(s[18:])\n",
    "print(s[0:])\n",
    "print(s[::])\n",
    "\n",
    "# Reverse slicing\n",
    "print(s[-1:-5:-1])\n",
    "print(s[-6:-10:-1])\n",
    "print(s[-11:-16:-1])\n",
    "print(s[-17::-1])\n",
    "print(s[::-1])"
   ]
  },
  {
   "cell_type": "markdown",
   "id": "64c08056",
   "metadata": {},
   "source": [
    "<h3> MUTABLE & IMMUTABLE OBEJECTS:</h3>\n",
    "    \n",
    "<pre>An immutable object is whole value cannot be changed. In python integers, strings, float and tuples are immutable objects.\n",
    "This means you can create object and assign some values to it but you cant modify.\n",
    "    \n",
    "An mutable object are those values can be changed.\n",
    "Mutable Types are list, dict and set."
   ]
  },
  {
   "cell_type": "code",
   "execution_count": 39,
   "id": "8653bccb",
   "metadata": {},
   "outputs": [
    {
     "name": "stdout",
     "output_type": "stream",
     "text": [
      "123456789\n"
     ]
    }
   ],
   "source": [
    "# numbers are immutable\n",
    "numbers = 123456789\n",
    "#print(num[1:5]) # will get a error because numbers are immutable objects.just we can print as it is.\n",
    "print(num)"
   ]
  },
  {
   "cell_type": "markdown",
   "id": "cb8cd392",
   "metadata": {},
   "source": [
    "<h3> STRING METHODS </h3>\n",
    "\n",
    "python has a set of built in methods that you use on strings. All string methods return new values. They do not change orginal string. Strings are mutable.\n",
    "<p> There are \"21\" strring methods\n",
    "<pre>\n",
    "1. upper()\n",
    "2. lower()\n",
    "3. title()\n",
    "4. capitalize()\n",
    "5. swapcase()\n",
    "6. strip()\n",
    "7. lstrip()\n",
    "8. rstrip()\n",
    "9. rjust()\n",
    "10. ljust()\n",
    "11. center()\n",
    "12. count()\n",
    "13. find()\n",
    "14. split()\n",
    "15. replace()\n",
    "16. startswith()\n",
    "17. endswith()\n",
    "18. join()\n",
    "19. index()\n",
    "20. rindex()\n",
    "21. zfill()\n",
    "</pre>"
   ]
  },
  {
   "cell_type": "markdown",
   "id": "8e48a0cc",
   "metadata": {},
   "source": [
    "1. upper() - converts a string into uppercase"
   ]
  },
  {
   "cell_type": "code",
   "execution_count": 40,
   "id": "6fce56d3",
   "metadata": {},
   "outputs": [
    {
     "name": "stdout",
     "output_type": "stream",
     "text": [
      "HERO\n"
     ]
    }
   ],
   "source": [
    "str = \"HeRo\"\n",
    "print(str.upper())"
   ]
  },
  {
   "cell_type": "markdown",
   "id": "40fe9230",
   "metadata": {},
   "source": [
    "2. lower() - converts a string into lowercase"
   ]
  },
  {
   "cell_type": "code",
   "execution_count": 42,
   "id": "13f94a6d",
   "metadata": {},
   "outputs": [
    {
     "name": "stdout",
     "output_type": "stream",
     "text": [
      "hello\n"
     ]
    }
   ],
   "source": [
    "str = \"HellO\"\n",
    "print(str.lower())"
   ]
  },
  {
   "cell_type": "markdown",
   "id": "cc2b5524",
   "metadata": {},
   "source": [
    "3. title() - converts the first character of each word to upper\n"
   ]
  },
  {
   "cell_type": "code",
   "execution_count": 43,
   "id": "1a1243e6",
   "metadata": {},
   "outputs": [
    {
     "name": "stdout",
     "output_type": "stream",
     "text": [
      "The Man Is Good!\n"
     ]
    }
   ],
   "source": [
    "str = \"the man is good!\"\n",
    "print(str.title())"
   ]
  },
  {
   "cell_type": "markdown",
   "id": "7e0da819",
   "metadata": {},
   "source": [
    "4. capitalize() - converts the first charcter to upper case\n"
   ]
  },
  {
   "cell_type": "code",
   "execution_count": 51,
   "id": "2039b070",
   "metadata": {},
   "outputs": [
    {
     "name": "stdout",
     "output_type": "stream",
     "text": [
      "The lion king\n"
     ]
    }
   ],
   "source": [
    "str = \"the lion king\"\n",
    "print(str.capitalize())"
   ]
  },
  {
   "cell_type": "markdown",
   "id": "34e808b8",
   "metadata": {},
   "source": [
    "5. swapcase() - convertsthe upper case into lowercase and lower case to upper case"
   ]
  },
  {
   "cell_type": "code",
   "execution_count": 52,
   "id": "ab1a197b",
   "metadata": {},
   "outputs": [
    {
     "name": "stdout",
     "output_type": "stream",
     "text": [
      "The Lion King\n"
     ]
    }
   ],
   "source": [
    "str = \"tHE lION kING\"\n",
    "print(str.swapcase())"
   ]
  },
  {
   "cell_type": "markdown",
   "id": "d923ec12",
   "metadata": {},
   "source": [
    "6. strip() - removes the spaces at the beginning and ending of the string."
   ]
  },
  {
   "cell_type": "code",
   "execution_count": 53,
   "id": "75741501",
   "metadata": {},
   "outputs": [
    {
     "name": "stdout",
     "output_type": "stream",
     "text": [
      "looking good man\n"
     ]
    }
   ],
   "source": [
    "str = \"           looking good man       \"\n",
    "print(str.strip())"
   ]
  },
  {
   "cell_type": "markdown",
   "id": "a21aaf2b",
   "metadata": {},
   "source": [
    "7. lstrip() - removes the left side beginning spaces."
   ]
  },
  {
   "cell_type": "code",
   "execution_count": 55,
   "id": "c484de80",
   "metadata": {
    "scrolled": true
   },
   "outputs": [
    {
     "name": "stdout",
     "output_type": "stream",
     "text": [
      "looking good man       !\n"
     ]
    }
   ],
   "source": [
    "str = \"           looking good man       !\"\n",
    "print(str.lstrip())"
   ]
  },
  {
   "cell_type": "markdown",
   "id": "58792b6d",
   "metadata": {},
   "source": [
    "8. rstrip() - removes the right side of the sring spaces"
   ]
  },
  {
   "cell_type": "code",
   "execution_count": 66,
   "id": "9d498522",
   "metadata": {},
   "outputs": [
    {
     "name": "stdout",
     "output_type": "stream",
     "text": [
      "           looking good man!\n"
     ]
    }
   ],
   "source": [
    "str = \"           looking good man!       \"\n",
    "print(str.rstrip())"
   ]
  },
  {
   "cell_type": "markdown",
   "id": "3ae4b2ee",
   "metadata": {},
   "source": [
    "9. ljust() - returns a left justified version of string"
   ]
  },
  {
   "cell_type": "code",
   "execution_count": 67,
   "id": "78c67954",
   "metadata": {},
   "outputs": [
    {
     "name": "stdout",
     "output_type": "stream",
     "text": [
      "! hello           !\n"
     ]
    }
   ],
   "source": [
    "str = \"hello\"\n",
    "print(\"!\",str.ljust(15),\"!\") # 15 spaces included with string length."
   ]
  },
  {
   "cell_type": "markdown",
   "id": "fe8da200",
   "metadata": {},
   "source": [
    "10. rjust() - returns a right justified version of a string."
   ]
  },
  {
   "cell_type": "code",
   "execution_count": 68,
   "id": "146e20bd",
   "metadata": {},
   "outputs": [
    {
     "name": "stdout",
     "output_type": "stream",
     "text": [
      "!           hello !\n"
     ]
    }
   ],
   "source": [
    "str = \"hello\"\n",
    "print(\"!\",str.rjust(15),\"!\") # 15 spaces included with string length."
   ]
  },
  {
   "cell_type": "markdown",
   "id": "ee7a75e6",
   "metadata": {},
   "source": [
    "11. center() - This method will align the string taking up the space number of characters"
   ]
  },
  {
   "cell_type": "code",
   "execution_count": 71,
   "id": "e2c111bb",
   "metadata": {},
   "outputs": [
    {
     "name": "stdout",
     "output_type": "stream",
     "text": [
      "!             hello              !\n"
     ]
    }
   ],
   "source": [
    "str = \"hello\"\n",
    "print(\"!\",str.center(30),\"!\")"
   ]
  },
  {
   "cell_type": "markdown",
   "id": "b1e1c59e",
   "metadata": {},
   "source": [
    "12. count() - Returns the number of times a specified value occurs in a string.\n"
   ]
  },
  {
   "cell_type": "code",
   "execution_count": 75,
   "id": "f0c2b746",
   "metadata": {},
   "outputs": [
    {
     "name": "stdout",
     "output_type": "stream",
     "text": [
      "3\n",
      "1\n"
     ]
    }
   ],
   "source": [
    "str = \"hello world\"\n",
    "print(str.count(\"l\"))\n",
    "print(str.count(\"hello\"))"
   ]
  },
  {
   "cell_type": "markdown",
   "id": "62fb619b",
   "metadata": {},
   "source": [
    "13. find() - This method finds the first occurence of the specified text"
   ]
  },
  {
   "cell_type": "code",
   "execution_count": 80,
   "id": "53f7eed7",
   "metadata": {},
   "outputs": [
    {
     "name": "stdout",
     "output_type": "stream",
     "text": [
      "12\n"
     ]
    }
   ],
   "source": [
    "str = \"hello world !\"\n",
    "print(str.find(\"!\")) # returns the index of the given string"
   ]
  },
  {
   "cell_type": "markdown",
   "id": "c6cdfa77",
   "metadata": {},
   "source": [
    "14. split() - splits the string into a list where each word is list item."
   ]
  },
  {
   "cell_type": "code",
   "execution_count": 81,
   "id": "fb6e545d",
   "metadata": {},
   "outputs": [
    {
     "name": "stdout",
     "output_type": "stream",
     "text": [
      "['hello', 'world', '!']\n"
     ]
    }
   ],
   "source": [
    "str = \"hello world !\"\n",
    "print(str.split())"
   ]
  },
  {
   "cell_type": "markdown",
   "id": "ce76c646",
   "metadata": {},
   "source": [
    "15. replace() - Replaces a specified word another specified text."
   ]
  },
  {
   "cell_type": "code",
   "execution_count": 82,
   "id": "c7d2315f",
   "metadata": {},
   "outputs": [
    {
     "name": "stdout",
     "output_type": "stream",
     "text": [
      "hello world !\n"
     ]
    }
   ],
   "source": [
    "str = \"hello world @\"\n",
    "print(str.replace(\"@\",\"!\"))"
   ]
  },
  {
   "cell_type": "markdown",
   "id": "18b41584",
   "metadata": {},
   "source": [
    "16. startswith() - returns true if the string starts with the specified value."
   ]
  },
  {
   "cell_type": "code",
   "execution_count": 85,
   "id": "3a9b05af",
   "metadata": {},
   "outputs": [
    {
     "name": "stdout",
     "output_type": "stream",
     "text": [
      "True\n",
      "False\n"
     ]
    }
   ],
   "source": [
    "str = \"hello world !\"\n",
    "print(str.startswith(\"hello\"))\n",
    "print(str.startswith(\"!\"))"
   ]
  },
  {
   "cell_type": "markdown",
   "id": "43575920",
   "metadata": {},
   "source": [
    "17. endswith() - returns true if the string ends with the specified value."
   ]
  },
  {
   "cell_type": "code",
   "execution_count": 87,
   "id": "ed90f970",
   "metadata": {},
   "outputs": [
    {
     "name": "stdout",
     "output_type": "stream",
     "text": [
      "True\n",
      "False\n"
     ]
    }
   ],
   "source": [
    "str = \"hello world !\"\n",
    "print(str.endswith(\"!\"))\n",
    "print(str.endswith(\"hello\"))"
   ]
  },
  {
   "cell_type": "markdown",
   "id": "0c0a40b0",
   "metadata": {},
   "source": [
    "18. join() - joins all the items in a tuple & list into a string."
   ]
  },
  {
   "cell_type": "code",
   "execution_count": 88,
   "id": "0d37b2fc",
   "metadata": {},
   "outputs": [
    {
     "name": "stdout",
     "output_type": "stream",
     "text": [
      "c python is required !\n"
     ]
    }
   ],
   "source": [
    "courses = (\"c\",\"python\",\"is\",\"required\",\"!\")\n",
    "print(\" \".join(courses))"
   ]
  },
  {
   "cell_type": "code",
   "execution_count": 89,
   "id": "578cf7ee",
   "metadata": {},
   "outputs": [
    {
     "name": "stdout",
     "output_type": "stream",
     "text": [
      "c python is required !\n"
     ]
    }
   ],
   "source": [
    "courses = [\"c\",\"python\",\"is\",\"required\",\"!\"]\n",
    "print(\" \".join(courses))"
   ]
  },
  {
   "cell_type": "markdown",
   "id": "44b78d7e",
   "metadata": {},
   "source": [
    "19. index() - searches the string for a required value and returns the positions."
   ]
  },
  {
   "cell_type": "code",
   "execution_count": 109,
   "id": "251ce246",
   "metadata": {},
   "outputs": [
    {
     "name": "stdout",
     "output_type": "stream",
     "text": [
      "2\n"
     ]
    }
   ],
   "source": [
    "str = \"hello world\"\n",
    "print(str.index(\"l\"))\n",
    "    "
   ]
  },
  {
   "cell_type": "markdown",
   "id": "3fe458cd",
   "metadata": {},
   "source": [
    "20. rindex - searches the string for a specified value and returns the last postion of where it was found."
   ]
  },
  {
   "cell_type": "code",
   "execution_count": 111,
   "id": "ace9cc77",
   "metadata": {},
   "outputs": [
    {
     "name": "stdout",
     "output_type": "stream",
     "text": [
      "12\n",
      "18\n"
     ]
    }
   ],
   "source": [
    "str = \"hello world hello world\"\n",
    "print(str.rindex(\"hello\"))\n",
    "print(str.rindex(\"world\"))"
   ]
  },
  {
   "cell_type": "markdown",
   "id": "9d6f85df",
   "metadata": {},
   "source": [
    "21. zfill() - fills the string with a specified number of various 0 values at the beginning "
   ]
  },
  {
   "cell_type": "code",
   "execution_count": 112,
   "id": "cb0633d8",
   "metadata": {},
   "outputs": [
    {
     "name": "stdout",
     "output_type": "stream",
     "text": [
      "000123\n"
     ]
    }
   ],
   "source": [
    "num = \"123\"\n",
    "print(num.zfill(6))"
   ]
  },
  {
   "cell_type": "code",
   "execution_count": null,
   "id": "9bf6e0a3",
   "metadata": {},
   "outputs": [],
   "source": []
  }
 ],
 "metadata": {
  "kernelspec": {
   "display_name": "Python 3 (ipykernel)",
   "language": "python",
   "name": "python3"
  },
  "language_info": {
   "codemirror_mode": {
    "name": "ipython",
    "version": 3
   },
   "file_extension": ".py",
   "mimetype": "text/x-python",
   "name": "python",
   "nbconvert_exporter": "python",
   "pygments_lexer": "ipython3",
   "version": "3.11.0"
  }
 },
 "nbformat": 4,
 "nbformat_minor": 5
}
