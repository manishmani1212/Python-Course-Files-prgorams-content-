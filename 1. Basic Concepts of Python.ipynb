{
 "cells": [
  {
   "cell_type": "markdown",
   "id": "8b3681c7",
   "metadata": {},
   "source": [
    "Basic Syntax of Python"
   ]
  },
  {
   "cell_type": "code",
   "execution_count": 1,
   "id": "401b6e9e",
   "metadata": {},
   "outputs": [
    {
     "name": "stdout",
     "output_type": "stream",
     "text": [
      "Hello world!\n"
     ]
    }
   ],
   "source": [
    "print(\"Hello world!\")"
   ]
  },
  {
   "cell_type": "markdown",
   "id": "2253c27c",
   "metadata": {},
   "source": [
    "<b>COMMENTS"
   ]
  },
  {
   "cell_type": "code",
   "execution_count": 6,
   "id": "3ad69032",
   "metadata": {},
   "outputs": [],
   "source": [
    "# - single line comments"
   ]
  },
  {
   "cell_type": "code",
   "execution_count": 12,
   "id": "72937d91",
   "metadata": {},
   "outputs": [
    {
     "name": "stdout",
     "output_type": "stream",
     "text": [
      "hi\n"
     ]
    }
   ],
   "source": [
    "\"\"\" hi \n",
    "hi \n",
    "hi\"\"\" or ''' '''# - multi line comments\n",
    "\n",
    "print(\"hi\")"
   ]
  },
  {
   "cell_type": "markdown",
   "id": "b5b3fb9f",
   "metadata": {},
   "source": [
    "<b>VARIABLES<b>\n",
    "\n",
    "Variables- Identity memory location. \n",
    "           Varaiable is used too store data of a program"
   ]
  },
  {
   "cell_type": "code",
   "execution_count": 23,
   "id": "bf1924ba",
   "metadata": {},
   "outputs": [
    {
     "name": "stdout",
     "output_type": "stream",
     "text": [
      "Man 21 SVIT True\n",
      "Name: Man, Age: 21, College: SVIT, Is student: True\n",
      "Man SVIT True\n"
     ]
    }
   ],
   "source": [
    "Name = \"Man\"\n",
    "Age = 21\n",
    "College = \"SVIT\"\n",
    "is_student = True\n",
    "print(Name,Age,College,is_student)\n",
    "print(f\"Name: {Name}, Age: {Age}, College: {College}, Is student: {is_student}\")\n",
    "\n",
    "# If you want to delete any thing use del keyword\n",
    "del Age\n",
    "print(Name,College,is_student)"
   ]
  },
  {
   "cell_type": "code",
   "execution_count": 26,
   "id": "91c6adc4",
   "metadata": {},
   "outputs": [
    {
     "name": "stdout",
     "output_type": "stream",
     "text": [
      "2\n",
      "1\n",
      "3\n"
     ]
    }
   ],
   "source": [
    "# Python Allows you to assign values to variable in a single line\n",
    "\n",
    "x,y,z = 1,2,3\n",
    "print(y)\n",
    "print(x)\n",
    "print(z)"
   ]
  },
  {
   "cell_type": "code",
   "execution_count": 29,
   "id": "fb567c30",
   "metadata": {},
   "outputs": [
    {
     "name": "stdout",
     "output_type": "stream",
     "text": [
      "a:1\n"
     ]
    }
   ],
   "source": [
    "# print value using f-string (formatting) :\n",
    "\n",
    "a=1\n",
    "print(f\"a:{a}\")"
   ]
  },
  {
   "cell_type": "code",
   "execution_count": 33,
   "id": "41945774",
   "metadata": {},
   "outputs": [
    {
     "name": "stdout",
     "output_type": "stream",
     "text": [
      "a-1,b-2,c-3\n"
     ]
    }
   ],
   "source": [
    "# Declare varaibale in same line :\n",
    "a,b,c = 1,2,3\n",
    "print(f\"a-{a},b-{b},c-{c}\")"
   ]
  },
  {
   "cell_type": "code",
   "execution_count": 48,
   "id": "76390cad",
   "metadata": {},
   "outputs": [
    {
     "name": "stdout",
     "output_type": "stream",
     "text": [
      "Details of employee are :\n",
      "emp_name=man\n",
      "emp_num=6376282879\n",
      "emp_salaray=0\n",
      "emp_gender=Straight\n",
      "emp_married=False\n"
     ]
    }
   ],
   "source": [
    "# Declare and print details of employee :\n",
    "emp_name = \"man\"\n",
    "emp_num = 6376282879\n",
    "emp_salaray = \"0\"\n",
    "emp_gender = \"Straight\"\n",
    "emp_married = False\n",
    "print(\"Details of employee are :\")\n",
    "print(f\"emp_name={emp_name}\\nemp_num={emp_num}\\nemp_salaray={emp_salaray}\\nemp_gender={emp_gender}\\nemp_married={emp_married}\")"
   ]
  },
  {
   "cell_type": "markdown",
   "id": "4c88aa2b",
   "metadata": {},
   "source": [
    "<b>DATA TYPES:<br>\n",
    "varaibles can store different kinds of data,\n",
    "type - we can find find which kind of datatype it is ...\n",
    "\n",
    "Text : string<br>\n",
    "Numeric types : int, float, complex<br>\n",
    "Sequence types : list, tuple, range<br>\n",
    "Mapping types : Dictionary <br>\n",
    "Set types : set, frozenset<br>\n",
    "Boolean types : true , false<br>"
   ]
  },
  {
   "cell_type": "code",
   "execution_count": 50,
   "id": "eb638505",
   "metadata": {},
   "outputs": [
    {
     "name": "stdout",
     "output_type": "stream",
     "text": [
      "<class 'str'>\n",
      "<class 'int'>\n",
      "<class 'float'>\n",
      "<class 'bool'>\n",
      "<class 'str'>\n",
      "<class 'NoneType'>\n",
      "<class 'list'>\n",
      "<class 'tuple'>\n",
      "<class 'dict'>\n",
      "<class 'set'>\n"
     ]
    }
   ],
   "source": [
    "# Assign Different type of values to variable and print its type\n",
    "\n",
    "a = \"man\"\n",
    "b = 2\n",
    "c = 1.0\n",
    "d = True\n",
    "e = \"2\"\n",
    "f = None\n",
    "g = [3,\"m\",23]\n",
    "h = (2,\"m\",23)\n",
    "i = {1:\"s\",2:\"p\",3:\"o\"}\n",
    "j = {a,b,c}\n",
    "print(type(a))\n",
    "print(type(b))\n",
    "print(type(c))\n",
    "print(type(d))\n",
    "print(type(e))\n",
    "print(type(f))\n",
    "print(type(g))\n",
    "print(type(h))\n",
    "print(type(i))\n",
    "print(type(j))"
   ]
  },
  {
   "cell_type": "markdown",
   "id": "5bf6e462",
   "metadata": {},
   "source": [
    "<b> STRINGS<b>\n",
    "\n",
    "<p>It is a collection of alhabets, words or other charcters. Anything inside a quotation is a string, we can use single and double quotation to declare strings but triple quotation are used to define ultiple lines.</p>"
   ]
  },
  {
   "cell_type": "markdown",
   "id": "2678c1d0",
   "metadata": {},
   "source": [
    "<b>String Uses<b>\n",
    "    \n",
    "1. String ConcateConcatenation (+) : adding two variables<br>\n"
   ]
  },
  {
   "cell_type": "code",
   "execution_count": 55,
   "id": "27b6e723",
   "metadata": {},
   "outputs": [
    {
     "name": "stdout",
     "output_type": "stream",
     "text": [
      "man ish\n"
     ]
    }
   ],
   "source": [
    "a = \"man\"\n",
    "b = \"ish\"\n",
    "c = a+\" \"+b\n",
    "print(c)"
   ]
  },
  {
   "cell_type": "markdown",
   "id": "17ea4758",
   "metadata": {},
   "source": [
    "2. String Multiplication(*) : multiplying one variable to required times. "
   ]
  },
  {
   "cell_type": "code",
   "execution_count": 61,
   "id": "e07daf06",
   "metadata": {},
   "outputs": [
    {
     "name": "stdout",
     "output_type": "stream",
     "text": [
      "man man man man man \n"
     ]
    }
   ],
   "source": [
    "a = \"man \"\n",
    "b = 5\n",
    "c = a*b\n",
    "print(c)"
   ]
  },
  {
   "cell_type": "markdown",
   "id": "60263dc2",
   "metadata": {},
   "source": [
    "3. String Length : The len() function returns the lenth of a string"
   ]
  },
  {
   "cell_type": "code",
   "execution_count": 7,
   "id": "ac41d7b7",
   "metadata": {},
   "outputs": [
    {
     "name": "stdout",
     "output_type": "stream",
     "text": [
      "5\n",
      "11\n"
     ]
    }
   ],
   "source": [
    "a = \"Hello\"\n",
    "b = \"Hello Hello\"\n",
    "print(len(a))\n",
    "print(len(b))"
   ]
  },
  {
   "cell_type": "markdown",
   "id": "e75267e8",
   "metadata": {},
   "source": [
    "MEMBERSHIP OPERATORS"
   ]
  },
  {
   "cell_type": "markdown",
   "id": "713debbc",
   "metadata": {},
   "source": [
    "3.1 . Check String : It returns true or false if given varibale is present- use \"in\" "
   ]
  },
  {
   "cell_type": "code",
   "execution_count": 5,
   "id": "89cf0bb5",
   "metadata": {},
   "outputs": [
    {
     "name": "stdout",
     "output_type": "stream",
     "text": [
      "True\n",
      "False\n"
     ]
    }
   ],
   "source": [
    "a = \"Yes or no\"\n",
    "print(\"Yes\" in a)\n",
    "print(\"what\" in a)"
   ]
  },
  {
   "cell_type": "markdown",
   "id": "c5300d23",
   "metadata": {},
   "source": [
    "3.2 . Check if not: It returns true or false if given varibale is present. we use \"not in\""
   ]
  },
  {
   "cell_type": "code",
   "execution_count": 11,
   "id": "62084c98",
   "metadata": {},
   "outputs": [
    {
     "name": "stdout",
     "output_type": "stream",
     "text": [
      "False\n",
      "False\n",
      "True\n",
      "False\n"
     ]
    }
   ],
   "source": [
    "a = \"Yes or no\"\n",
    "print(\"Yes\" not in a)\n",
    "print(\"what\" in a)\n",
    "b = 1,2,3,4\n",
    "print(5 not in b)\n",
    "print(5 in b)"
   ]
  },
  {
   "cell_type": "markdown",
   "id": "1ed99bbf",
   "metadata": {},
   "source": [
    "4. String Quotations : "
   ]
  },
  {
   "cell_type": "code",
   "execution_count": 17,
   "id": "20c0dcc3",
   "metadata": {},
   "outputs": [
    {
     "name": "stdout",
     "output_type": "stream",
     "text": [
      "Hello, 'Iam very happy'\n",
      "Hello, \"Iam very happy\"\n",
      "ola, '!uber'\n",
      "\n",
      "hello python,\n",
      "It is simple and\n",
      "syntax free\n"
     ]
    }
   ],
   "source": [
    "print(\"Hello, 'Iam very happy'\")\n",
    "print('Hello, \"Iam very happy\"')\n",
    "print(\"ola, '!uber'\\n\")\n",
    "x = \"\"\"hello python,\n",
    "It is simple and\n",
    "syntax free\"\"\"\n",
    "print(x)"
   ]
  },
  {
   "cell_type": "code",
   "execution_count": null,
   "id": "f249be1e",
   "metadata": {},
   "outputs": [],
   "source": []
  }
 ],
 "metadata": {
  "kernelspec": {
   "display_name": "Python 3 (ipykernel)",
   "language": "python",
   "name": "python3"
  },
  "language_info": {
   "codemirror_mode": {
    "name": "ipython",
    "version": 3
   },
   "file_extension": ".py",
   "mimetype": "text/x-python",
   "name": "python",
   "nbconvert_exporter": "python",
   "pygments_lexer": "ipython3",
   "version": "3.11.0"
  }
 },
 "nbformat": 4,
 "nbformat_minor": 5
}
