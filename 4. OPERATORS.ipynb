{
 "cells": [
  {
   "cell_type": "markdown",
   "id": "7f226c6a",
   "metadata": {},
   "source": [
    "<pre><b> Opertaor :</b> Operator is a symbol that performs operation on one or  more   operators.\n",
    "    The member on which operator is called the operand\n",
    "    in the expression a=5+9\n",
    "        a,5,9 are operands and +,-,are operators </pre>"
   ]
  },
  {
   "cell_type": "markdown",
   "id": "4389c3ab",
   "metadata": {},
   "source": [
    "<h3>1. Arithmetic Operators</h3>\n",
    "\n",
    "operators are + , - , / , * , // , ** , %"
   ]
  },
  {
   "cell_type": "code",
   "execution_count": 6,
   "id": "460666a9",
   "metadata": {},
   "outputs": [
    {
     "name": "stdout",
     "output_type": "stream",
     "text": [
      "add 8\n",
      "sub 2\n",
      "multiply 15\n",
      "divison 1.6666666666666667\n",
      "power 125\n",
      "floor divison 1\n",
      "modulus 2\n"
     ]
    }
   ],
   "source": [
    "a = 5 \n",
    "b = 3\n",
    "c = a+b\n",
    "d = a-b\n",
    "e = a*b\n",
    "f = a/b\n",
    "g = a**b\n",
    "h = a//b\n",
    "i = a%b\n",
    "print(\"add\",c)\n",
    "print(\"sub\",d)\n",
    "print(\"multiply\",e)\n",
    "print(\"divison\",f)\n",
    "print(\"power\",g)\n",
    "print(\"floor divison\",h)\n",
    "print(\"modulus\",i)"
   ]
  },
  {
   "cell_type": "code",
   "execution_count": 7,
   "id": "ce44b470",
   "metadata": {},
   "outputs": [
    {
     "name": "stdout",
     "output_type": "stream",
     "text": [
      "sum = 98\n"
     ]
    }
   ],
   "source": [
    "# Adding of two numbers and display with f-string\n",
    "\n",
    "a = 77\n",
    "b = 21\n",
    "print(f\"sum = {a+b}\")"
   ]
  },
  {
   "cell_type": "code",
   "execution_count": 14,
   "id": "bfa14b46",
   "metadata": {},
   "outputs": [
    {
     "name": "stdout",
     "output_type": "stream",
     "text": [
      "6\n"
     ]
    }
   ],
   "source": [
    "# Display last digit of givn number\n",
    "\n",
    "a = 123456\n",
    "b = a%10 # 10 - last 1 digit 100 - lat 2 digit soon..\n",
    "print(b)"
   ]
  },
  {
   "cell_type": "code",
   "execution_count": 15,
   "id": "2668fe94",
   "metadata": {},
   "outputs": [
    {
     "name": "stdout",
     "output_type": "stream",
     "text": [
      "134\n"
     ]
    }
   ],
   "source": [
    "# Remove last digit from the given number\n",
    "\n",
    "a = 1345\n",
    "b = a//10 # 10 - removes last one digit soon vice versa..\n",
    "print(b)"
   ]
  },
  {
   "cell_type": "code",
   "execution_count": 17,
   "id": "0b89b7cb",
   "metadata": {},
   "outputs": [
    {
     "name": "stdout",
     "output_type": "stream",
     "text": [
      "avg is  2.5\n"
     ]
    }
   ],
   "source": [
    "# average of 4 numbers\n",
    " \n",
    "a, b, c, d = 1, 2, 3, 4\n",
    "print(\"avg is \",(a+b+c+d)/4)"
   ]
  },
  {
   "cell_type": "code",
   "execution_count": 23,
   "id": "6fa10a4e",
   "metadata": {},
   "outputs": [
    {
     "name": "stdout",
     "output_type": "stream",
     "text": [
      "2 1\n"
     ]
    }
   ],
   "source": [
    "# swapping of two nunbers\n",
    "\n",
    "a = 1\n",
    "b = 2\n",
    "temp = a\n",
    "a = b\n",
    "b = temp\n",
    "print(a,b)"
   ]
  },
  {
   "cell_type": "code",
   "execution_count": 24,
   "id": "cb906ffb",
   "metadata": {},
   "outputs": [
    {
     "name": "stdout",
     "output_type": "stream",
     "text": [
      "before swap :(1, 2)\n",
      "after swap: (2, 1)\n"
     ]
    }
   ],
   "source": [
    "c ,d = 1, 2\n",
    "print(f\"before swap :{c,d}\")\n",
    "c, d = d, c\n",
    "print(f\"after swap: {c,d}\")"
   ]
  },
  {
   "cell_type": "code",
   "execution_count": 27,
   "id": "4e2b3b1e",
   "metadata": {},
   "outputs": [
    {
     "name": "stdout",
     "output_type": "stream",
     "text": [
      "55\n"
     ]
    }
   ],
   "source": [
    "# find te sum of first n nunbers\n",
    "\n",
    "n = 10\n",
    "sum = (n*(n+1)//2)\n",
    "print(sum)"
   ]
  },
  {
   "cell_type": "code",
   "execution_count": 28,
   "id": "406cc27a",
   "metadata": {},
   "outputs": [
    {
     "name": "stdout",
     "output_type": "stream",
     "text": [
      "total price 525.0\n"
     ]
    }
   ],
   "source": [
    "# find total price of quantity of fruits purchased:\n",
    "\n",
    "fruits = 50\n",
    "price = 10.5\n",
    "print(\"total price\",fruits*price)"
   ]
  },
  {
   "cell_type": "markdown",
   "id": "221e6ab8",
   "metadata": {},
   "source": [
    "<h3>2. RELATIONAL OPERATORS :</h3>\n",
    "    \n",
    "<pre>\n",
    "Relational operators are < , > , <= , >= , == , !=\n",
    "These operators validate the relation among operands and return boolean value\n",
    "\n",
    "If relation is valid returns True or False\n",
    "</pre>"
   ]
  },
  {
   "cell_type": "code",
   "execution_count": 30,
   "id": "7082d909",
   "metadata": {},
   "outputs": [
    {
     "name": "stdout",
     "output_type": "stream",
     "text": [
      "True\n",
      "False\n",
      "True\n",
      "False\n",
      "False\n",
      "True\n"
     ]
    }
   ],
   "source": [
    "# Program to understand Relational operators \n",
    "\n",
    "a = 1\n",
    "b = 2\n",
    "print(a<b)\n",
    "print(a>b)\n",
    "print(a<=b)\n",
    "print(a>=b)\n",
    "print(a==b)\n",
    "print(a!=b)"
   ]
  },
  {
   "cell_type": "code",
   "execution_count": 33,
   "id": "8078bfe4",
   "metadata": {},
   "outputs": [
    {
     "name": "stdout",
     "output_type": "stream",
     "text": [
      "Enter a number :-1\n",
      "-1 is negative\n"
     ]
    }
   ],
   "source": [
    "# conditon to check the number is positive or negative\n",
    "\n",
    "a = int(input(\"Enter a number :\"))\n",
    "if a>0:\n",
    "    print(a,\"is positive\")\n",
    "elif a<0:\n",
    "    print(a, \"is negative\")\n",
    "else:\n",
    "    print(a, \"is zero\")"
   ]
  },
  {
   "cell_type": "code",
   "execution_count": 34,
   "id": "dde69a1d",
   "metadata": {},
   "outputs": [
    {
     "name": "stdout",
     "output_type": "stream",
     "text": [
      "not equal\n"
     ]
    }
   ],
   "source": [
    "# condition to check the 2 nukmbers are equal\n",
    "\n",
    "a = 1\n",
    "b = 2\n",
    "if a==b:\n",
    "    print(\"equal\")\n",
    "else:\n",
    "    print(\"not equal\")"
   ]
  },
  {
   "cell_type": "code",
   "execution_count": 36,
   "id": "cfe71e40",
   "metadata": {},
   "outputs": [
    {
     "name": "stdout",
     "output_type": "stream",
     "text": [
      "b is greater\n"
     ]
    }
   ],
   "source": [
    "# condition to check first num greater than second num\n",
    "\n",
    "a = 1\n",
    "b = 2\n",
    "if a>b:\n",
    "    print(\"a is greater\")\n",
    "else:\n",
    "    print(\"b is greater\")"
   ]
  },
  {
   "cell_type": "code",
   "execution_count": 38,
   "id": "3f49db31",
   "metadata": {},
   "outputs": [
    {
     "name": "stdout",
     "output_type": "stream",
     "text": [
      "a and b are equal\n"
     ]
    }
   ],
   "source": [
    "# condition to check square of the first number equals to second number\n",
    "\n",
    "a = 2\n",
    "b = 4\n",
    "if a**2==b:\n",
    "    print(\"a and b are equal\")\n",
    "else:\n",
    "    print(\"a and b are not equal \")"
   ]
  },
  {
   "cell_type": "code",
   "execution_count": 39,
   "id": "3a87e712",
   "metadata": {},
   "outputs": [
    {
     "name": "stdout",
     "output_type": "stream",
     "text": [
      "sum of a & b are equal to c\n"
     ]
    }
   ],
   "source": [
    "# condition to check sum of 2 numbers equal to 10\n",
    "\n",
    "a = 4\n",
    "b = 6\n",
    "c = 10\n",
    "if (a+b)==c:\n",
    "    print(\"sum of a & b are equal to c\")"
   ]
  },
  {
   "cell_type": "code",
   "execution_count": 45,
   "id": "b486d45e",
   "metadata": {},
   "outputs": [
    {
     "name": "stdout",
     "output_type": "stream",
     "text": [
      "Divisble\n"
     ]
    }
   ],
   "source": [
    "# condition to check the number divisible by 7\n",
    "\n",
    "a = 49\n",
    "if a%7 == 0:\n",
    "    print(\"Divisble\")\n",
    "else:\n",
    "    print(\"not divisible\")"
   ]
  },
  {
   "cell_type": "code",
   "execution_count": null,
   "id": "c7645af4",
   "metadata": {},
   "outputs": [],
   "source": []
  }
 ],
 "metadata": {
  "kernelspec": {
   "display_name": "Python 3 (ipykernel)",
   "language": "python",
   "name": "python3"
  },
  "language_info": {
   "codemirror_mode": {
    "name": "ipython",
    "version": 3
   },
   "file_extension": ".py",
   "mimetype": "text/x-python",
   "name": "python",
   "nbconvert_exporter": "python",
   "pygments_lexer": "ipython3",
   "version": "3.11.0"
  }
 },
 "nbformat": 4,
 "nbformat_minor": 5
}
