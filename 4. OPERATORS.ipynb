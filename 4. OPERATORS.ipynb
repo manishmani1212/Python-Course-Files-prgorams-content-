{
 "cells": [
  {
   "cell_type": "markdown",
   "id": "7f226c6a",
   "metadata": {},
   "source": [
    "<pre><b> Opertaor :</b> Operator is a symbol that performs operation on one or  more   operators.\n",
    "    The member on which operator is called the operand\n",
    "    in the expression a=5+9\n",
    "        a,5,9 are operands and +,-,are operators </pre>"
   ]
  },
  {
   "cell_type": "markdown",
   "id": "4389c3ab",
   "metadata": {},
   "source": [
    "<h3>1. ARTHIMETIC OPERATORS</h3>\n",
    "\n",
    "operators are + , - , / , * , // , ** , %"
   ]
  },
  {
   "cell_type": "code",
   "execution_count": 6,
   "id": "460666a9",
   "metadata": {},
   "outputs": [
    {
     "name": "stdout",
     "output_type": "stream",
     "text": [
      "add 8\n",
      "sub 2\n",
      "multiply 15\n",
      "divison 1.6666666666666667\n",
      "power 125\n",
      "floor divison 1\n",
      "modulus 2\n"
     ]
    }
   ],
   "source": [
    "a = 5 \n",
    "b = 3\n",
    "c = a+b\n",
    "d = a-b\n",
    "e = a*b\n",
    "f = a/b\n",
    "g = a**b\n",
    "h = a//b\n",
    "i = a%b\n",
    "print(\"add\",c)\n",
    "print(\"sub\",d)\n",
    "print(\"multiply\",e)\n",
    "print(\"divison\",f)\n",
    "print(\"power\",g)\n",
    "print(\"floor divison\",h)\n",
    "print(\"modulus\",i)"
   ]
  },
  {
   "cell_type": "code",
   "execution_count": 7,
   "id": "ce44b470",
   "metadata": {},
   "outputs": [
    {
     "name": "stdout",
     "output_type": "stream",
     "text": [
      "sum = 98\n"
     ]
    }
   ],
   "source": [
    "# Adding of two numbers and display with f-string\n",
    "\n",
    "a = 77\n",
    "b = 21\n",
    "print(f\"sum = {a+b}\")"
   ]
  },
  {
   "cell_type": "code",
   "execution_count": 14,
   "id": "bfa14b46",
   "metadata": {},
   "outputs": [
    {
     "name": "stdout",
     "output_type": "stream",
     "text": [
      "6\n"
     ]
    }
   ],
   "source": [
    "# Display last digit of givn number\n",
    "\n",
    "a = 123456\n",
    "b = a%10 # 10 - last 1 digit 100 - lat 2 digit soon..\n",
    "print(b)"
   ]
  },
  {
   "cell_type": "code",
   "execution_count": 15,
   "id": "2668fe94",
   "metadata": {},
   "outputs": [
    {
     "name": "stdout",
     "output_type": "stream",
     "text": [
      "134\n"
     ]
    }
   ],
   "source": [
    "# Remove last digit from the given number\n",
    "\n",
    "a = 1345\n",
    "b = a//10 # 10 - removes last one digit soon vice versa..\n",
    "print(b)"
   ]
  },
  {
   "cell_type": "code",
   "execution_count": 17,
   "id": "0b89b7cb",
   "metadata": {},
   "outputs": [
    {
     "name": "stdout",
     "output_type": "stream",
     "text": [
      "avg is  2.5\n"
     ]
    }
   ],
   "source": [
    "# average of 4 numbers\n",
    " \n",
    "a, b, c, d = 1, 2, 3, 4\n",
    "print(\"avg is \",(a+b+c+d)/4)"
   ]
  },
  {
   "cell_type": "code",
   "execution_count": 23,
   "id": "6fa10a4e",
   "metadata": {},
   "outputs": [
    {
     "name": "stdout",
     "output_type": "stream",
     "text": [
      "2 1\n"
     ]
    }
   ],
   "source": [
    "# swapping of two nunbers\n",
    "\n",
    "a = 1\n",
    "b = 2\n",
    "temp = a\n",
    "a = b\n",
    "b = temp\n",
    "print(a,b)"
   ]
  },
  {
   "cell_type": "code",
   "execution_count": 24,
   "id": "cb906ffb",
   "metadata": {},
   "outputs": [
    {
     "name": "stdout",
     "output_type": "stream",
     "text": [
      "before swap :(1, 2)\n",
      "after swap: (2, 1)\n"
     ]
    }
   ],
   "source": [
    "c ,d = 1, 2\n",
    "print(f\"before swap :{c,d}\")\n",
    "c, d = d, c\n",
    "print(f\"after swap: {c,d}\")"
   ]
  },
  {
   "cell_type": "code",
   "execution_count": 27,
   "id": "4e2b3b1e",
   "metadata": {},
   "outputs": [
    {
     "name": "stdout",
     "output_type": "stream",
     "text": [
      "55\n"
     ]
    }
   ],
   "source": [
    "# find te sum of first n nunbers\n",
    "\n",
    "n = 10\n",
    "sum = (n*(n+1)//2)\n",
    "print(sum)"
   ]
  },
  {
   "cell_type": "code",
   "execution_count": 28,
   "id": "406cc27a",
   "metadata": {},
   "outputs": [
    {
     "name": "stdout",
     "output_type": "stream",
     "text": [
      "total price 525.0\n"
     ]
    }
   ],
   "source": [
    "# find total price of quantity of fruits purchased:\n",
    "\n",
    "fruits = 50\n",
    "price = 10.5\n",
    "print(\"total price\",fruits*price)"
   ]
  },
  {
   "cell_type": "markdown",
   "id": "221e6ab8",
   "metadata": {},
   "source": [
    "<h3>2. RELATIONAL OPERATORS :</h3>\n",
    "    \n",
    "<pre>\n",
    "Relational operators are < , > , <= , >= , == , !=\n",
    "These operators validate the relation among operands and return boolean value\n",
    "\n",
    "If relation is valid returns True or False\n",
    "</pre>"
   ]
  },
  {
   "cell_type": "code",
   "execution_count": 30,
   "id": "7082d909",
   "metadata": {},
   "outputs": [
    {
     "name": "stdout",
     "output_type": "stream",
     "text": [
      "True\n",
      "False\n",
      "True\n",
      "False\n",
      "False\n",
      "True\n"
     ]
    }
   ],
   "source": [
    "# Program to understand Relational operators \n",
    "\n",
    "a = 1\n",
    "b = 2\n",
    "print(a<b)\n",
    "print(a>b)\n",
    "print(a<=b)\n",
    "print(a>=b)\n",
    "print(a==b)\n",
    "print(a!=b)"
   ]
  },
  {
   "cell_type": "code",
   "execution_count": 33,
   "id": "8078bfe4",
   "metadata": {},
   "outputs": [
    {
     "name": "stdout",
     "output_type": "stream",
     "text": [
      "Enter a number :-1\n",
      "-1 is negative\n"
     ]
    }
   ],
   "source": [
    "# conditon to check the number is positive or negative\n",
    "\n",
    "a = int(input(\"Enter a number :\"))\n",
    "if a>0:\n",
    "    print(a,\"is positive\")\n",
    "elif a<0:\n",
    "    print(a, \"is negative\")\n",
    "else:\n",
    "    print(a, \"is zero\")"
   ]
  },
  {
   "cell_type": "code",
   "execution_count": 34,
   "id": "dde69a1d",
   "metadata": {},
   "outputs": [
    {
     "name": "stdout",
     "output_type": "stream",
     "text": [
      "not equal\n"
     ]
    }
   ],
   "source": [
    "# condition to check the 2 nukmbers are equal\n",
    "\n",
    "a = 1\n",
    "b = 2\n",
    "if a==b:\n",
    "    print(\"equal\")\n",
    "else:\n",
    "    print(\"not equal\")"
   ]
  },
  {
   "cell_type": "code",
   "execution_count": 36,
   "id": "cfe71e40",
   "metadata": {},
   "outputs": [
    {
     "name": "stdout",
     "output_type": "stream",
     "text": [
      "b is greater\n"
     ]
    }
   ],
   "source": [
    "# condition to check first num greater than second num\n",
    "\n",
    "a = 1\n",
    "b = 2\n",
    "if a>b:\n",
    "    print(\"a is greater\")\n",
    "else:\n",
    "    print(\"b is greater\")"
   ]
  },
  {
   "cell_type": "code",
   "execution_count": 38,
   "id": "3f49db31",
   "metadata": {},
   "outputs": [
    {
     "name": "stdout",
     "output_type": "stream",
     "text": [
      "a and b are equal\n"
     ]
    }
   ],
   "source": [
    "# condition to check square of the first number equals to second number\n",
    "\n",
    "a = 2\n",
    "b = 4\n",
    "if a**2==b:\n",
    "    print(\"a and b are equal\")\n",
    "else:\n",
    "    print(\"a and b are not equal \")"
   ]
  },
  {
   "cell_type": "code",
   "execution_count": 39,
   "id": "3a87e712",
   "metadata": {},
   "outputs": [
    {
     "name": "stdout",
     "output_type": "stream",
     "text": [
      "sum of a & b are equal to c\n"
     ]
    }
   ],
   "source": [
    "# condition to check sum of 2 numbers equal to 10\n",
    "\n",
    "a = 4\n",
    "b = 6\n",
    "c = 10\n",
    "if (a+b)==c:\n",
    "    print(\"sum of a & b are equal to c\")"
   ]
  },
  {
   "cell_type": "code",
   "execution_count": 45,
   "id": "b486d45e",
   "metadata": {},
   "outputs": [
    {
     "name": "stdout",
     "output_type": "stream",
     "text": [
      "Divisble\n"
     ]
    }
   ],
   "source": [
    "# condition to check the number divisible by 7\n",
    "\n",
    "a = 49\n",
    "if a%7 == 0:\n",
    "    print(\"Divisble\")\n",
    "else:\n",
    "    print(\"not divisible\")"
   ]
  },
  {
   "cell_type": "code",
   "execution_count": 4,
   "id": "c7645af4",
   "metadata": {},
   "outputs": [
    {
     "name": "stdout",
     "output_type": "stream",
     "text": [
      "enter a value28\n",
      "even\n"
     ]
    }
   ],
   "source": [
    "# condition to check the number is even \n",
    "\n",
    "a = int(input(\"enter a value\"))\n",
    "if a%2==0:\n",
    "    print(\"even\")\n",
    "else:\n",
    "    print(\"odd\")"
   ]
  },
  {
   "cell_type": "code",
   "execution_count": 11,
   "id": "ab39b41a",
   "metadata": {},
   "outputs": [
    {
     "name": "stdout",
     "output_type": "stream",
     "text": [
      "1\n"
     ]
    }
   ],
   "source": [
    "# condition to check the last digit the given numnber is zero\n",
    "\n",
    "a =21\n",
    "b = a%10\n",
    "if b==0:\n",
    "    print(\"last digit is zero\")\n",
    "elif b:\n",
    "    print(b)   \n",
    "else:\n",
    "    print(a)"
   ]
  },
  {
   "cell_type": "code",
   "execution_count": 13,
   "id": "2c69d714",
   "metadata": {},
   "outputs": [
    {
     "name": "stdout",
     "output_type": "stream",
     "text": [
      "enter a number :9\n",
      "9 is divisble by 3\n"
     ]
    }
   ],
   "source": [
    "# condition to check the last digit of a number is divisible by 3\n",
    "\n",
    "a = int(input(\"enter a number :\"))\n",
    "b = (a%10)%3\n",
    "if b==0:\n",
    "    print(a,\"is divisble by 3\")\n",
    "else:\n",
    "    print(a,\"is not divisible ny 3\")"
   ]
  },
  {
   "cell_type": "code",
   "execution_count": 16,
   "id": "91ca45e6",
   "metadata": {},
   "outputs": [
    {
     "name": "stdout",
     "output_type": "stream",
     "text": [
      "equal\n"
     ]
    }
   ],
   "source": [
    "# condition to check the multiplication of firs 2 numbers equal to square of that number or not\n",
    "\n",
    "a = 2\n",
    "b = 2\n",
    "c = a*b\n",
    "d = a**b\n",
    "if c == d:\n",
    "    print(\"equal\")\n",
    "else:\n",
    "    print(\"not equal\")"
   ]
  },
  {
   "cell_type": "code",
   "execution_count": 20,
   "id": "8f14bb6b",
   "metadata": {},
   "outputs": [
    {
     "name": "stdout",
     "output_type": "stream",
     "text": [
      "not equal\n"
     ]
    }
   ],
   "source": [
    "# condition to check the last digits of both numbers equal\n",
    "\n",
    "a = 312\n",
    "b = 119\n",
    "c = a%10\n",
    "d = b%10\n",
    "if c == d:\n",
    "    print(\"Equal last two digits\")\n",
    "else:\n",
    "    print(\"not equal\")\n"
   ]
  },
  {
   "cell_type": "code",
   "execution_count": 25,
   "id": "24b8e0e5",
   "metadata": {},
   "outputs": [
    {
     "name": "stdout",
     "output_type": "stream",
     "text": [
      "eq\n"
     ]
    }
   ],
   "source": [
    "# condition to check the sum of last digits of given two numbers is equal to 10\n",
    "\n",
    "a = 312\n",
    "b = 118\n",
    "c = a%10\n",
    "d = b%10\n",
    "e = c+d\n",
    "if e==10:\n",
    "    print(\"eq\")\n",
    "else:\n",
    "    print(\"nweq\")"
   ]
  },
  {
   "cell_type": "code",
   "execution_count": 27,
   "id": "58b3eeb4",
   "metadata": {},
   "outputs": [
    {
     "name": "stdout",
     "output_type": "stream",
     "text": [
      "pass\n"
     ]
    }
   ],
   "source": [
    "# condition to check the average of 4 subjects marks greater than 60\n",
    "s1 = 80\n",
    "s2 = 90\n",
    "s3 =93\n",
    "s4 = 81\n",
    "t = s1+s2+s3+s4/4\n",
    "if t>60:\n",
    "    print(\"pass\")\n",
    "else:\n",
    "    print(\"fail\")"
   ]
  },
  {
   "cell_type": "code",
   "execution_count": 30,
   "id": "0c813ce4",
   "metadata": {},
   "outputs": [
    {
     "name": "stdout",
     "output_type": "stream",
     "text": [
      "eq\n"
     ]
    }
   ],
   "source": [
    "# condition to check sum of first two nums is equal to last digit of thir num\n",
    "\n",
    "a = 1\n",
    "b = 2\n",
    "c = 33%10\n",
    "d = a+b\n",
    "if d==c:\n",
    "    print(\"eq\")\n",
    "else:\n",
    "    print(\"neq\")"
   ]
  },
  {
   "cell_type": "code",
   "execution_count": 33,
   "id": "27423d09",
   "metadata": {},
   "outputs": [
    {
     "name": "stdout",
     "output_type": "stream",
     "text": [
      "eq\n"
     ]
    }
   ],
   "source": [
    "# condition to check the answer of 3 numbers equals to first number\n",
    "\n",
    "a=2\n",
    "b=1\n",
    "c=3\n",
    "d=(a+b+c)/3\n",
    "if d == a:\n",
    "    print(\"eq\")\n",
    "else:\n",
    "    print(\"neq\")"
   ]
  },
  {
   "cell_type": "code",
   "execution_count": 35,
   "id": "1532ab27",
   "metadata": {},
   "outputs": [
    {
     "name": "stdout",
     "output_type": "stream",
     "text": [
      "10\n"
     ]
    }
   ],
   "source": [
    "# conditon to check the given quantity of fruits exactly in dozen \n",
    "\n",
    "fruits = 10\n",
    "dozen = 12\n",
    "if fruits == dozen:\n",
    "    print(\"fruits are in dozen\")\n",
    "else:\n",
    "    print(fruits)"
   ]
  },
  {
   "cell_type": "code",
   "execution_count": 40,
   "id": "74086a04",
   "metadata": {},
   "outputs": [
    {
     "name": "stdout",
     "output_type": "stream",
     "text": [
      "greater\n"
     ]
    }
   ],
   "source": [
    "# condition to check the square of last digit is greater than 10\n",
    "\n",
    "a = 129\n",
    "b = a%10\n",
    "c = b**b\n",
    "if c > 10:\n",
    "    print(\"greater\")\n",
    "else:\n",
    "    print(\"not\")"
   ]
  },
  {
   "cell_type": "code",
   "execution_count": 42,
   "id": "21e424de",
   "metadata": {},
   "outputs": [
    {
     "name": "stdout",
     "output_type": "stream",
     "text": [
      "divisible\n"
     ]
    }
   ],
   "source": [
    "# comdition to check square of last digit of given number divisible by 3\n",
    "\n",
    "x = 23\n",
    "y = x%10\n",
    "z = y**y\n",
    "a = z%3\n",
    "if a == 0:\n",
    "    print(\"divisible\")\n",
    "else:\n",
    "    print(\"not\")"
   ]
  },
  {
   "cell_type": "markdown",
   "id": "b87ebd97",
   "metadata": {},
   "source": [
    "<h3>3. LOGICAL OPERATORS</h3>\n",
    "\n",
    "logical operators are <b>and, or, not</b>\n",
    "\n",
    "returns True or False y validating more than one expresiion."
   ]
  },
  {
   "cell_type": "code",
   "execution_count": 3,
   "id": "4e66378f",
   "metadata": {},
   "outputs": [
    {
     "name": "stdout",
     "output_type": "stream",
     "text": [
      "Enter a num :1\n",
      "Enter a num :2\n",
      "Enter a num :3\n",
      "3 c is greater\n"
     ]
    }
   ],
   "source": [
    "# write the condition to check first num is grater than both second and third nums\n",
    "\n",
    "a = int(input(\"Enter a num :\"))\n",
    "b = int(input(\"Enter a num :\"))\n",
    "c = int(input(\"Enter a num :\"))\n",
    "if a > b and a > c:\n",
    "    print(a,\"a is greater\")\n",
    "elif b > c and b > a:\n",
    "    print(b,\"  is greater\")\n",
    "else:\n",
    "    print(c,\"c is greater\")"
   ]
  },
  {
   "cell_type": "code",
   "execution_count": 5,
   "id": "03c32e49",
   "metadata": {},
   "outputs": [
    {
     "name": "stdout",
     "output_type": "stream",
     "text": [
      "Enter a num :23\n",
      "23 is not divisble by 3 and 5\n"
     ]
    }
   ],
   "source": [
    "# condition to check the number divsible by both 3 and 5\n",
    "\n",
    "a = int(input(\"Enter a num :\"))\n",
    "if a % 3 == 0 and a % 5==0:\n",
    "    print(a,\"is divisble by 3 and 5\")\n",
    "else:\n",
    "    print(a,\"is not divisble by 3 and 5\")"
   ]
  },
  {
   "cell_type": "code",
   "execution_count": 7,
   "id": "875f2678",
   "metadata": {},
   "outputs": [
    {
     "name": "stdout",
     "output_type": "stream",
     "text": [
      "enter a num :2\n",
      "2 does not lies between 30 and 50\n"
     ]
    }
   ],
   "source": [
    "# condition to check the num is between 30 and 50\n",
    "\n",
    "num = int(input(\"enter a num :\"))\n",
    "if num>=30 and num<=50:\n",
    "    print(num,\"is between 30 and 50\")\n",
    "else:\n",
    "    print(num,\"does not lies between 30 and 50\")"
   ]
  },
  {
   "cell_type": "code",
   "execution_count": 9,
   "id": "d0a90d4d",
   "metadata": {},
   "outputs": [
    {
     "name": "stdout",
     "output_type": "stream",
     "text": [
      "Enter a num :234\n",
      "it is a three digit number\n"
     ]
    }
   ],
   "source": [
    "# condition to check the number is 3 digit number \n",
    "num = int(input(\"Enter a num :\"))\n",
    "a = str(num)\n",
    "if len(a)==3:\n",
    "    print(\"it is a three digit number\")\n",
    "else:\n",
    "    print(\"not a three digit number\")"
   ]
  },
  {
   "cell_type": "code",
   "execution_count": 10,
   "id": "4c2d9a06",
   "metadata": {},
   "outputs": [
    {
     "name": "stdout",
     "output_type": "stream",
     "text": [
      "Enter a num :14\n",
      "Enter a num :98\n",
      "Enter a num :78\n",
      "Enter a num :89\n",
      "Enter a num :45\n",
      "student is failed\n"
     ]
    }
   ],
   "source": [
    "# condition to check the student passed in all 5 subjects \n",
    "\n",
    "s1 = int(input(\"Enter a num :\"))\n",
    "s2 = int(input(\"Enter a num :\"))\n",
    "s3 = int(input(\"Enter a num :\"))\n",
    "s4 = int(input(\"Enter a num :\"))\n",
    "s5 = int(input(\"Enter a num :\"))\n",
    "if s1<26 or s2<26 or s3<26 or s4<26 or s5<26 and ((s1+s2+s3+s4+s5)/5)<34:\n",
    "    print(\"student is failed\")\n",
    "else:\n",
    "    print(\"student is passed\")"
   ]
  },
  {
   "cell_type": "code",
   "execution_count": 11,
   "id": "83f282b8",
   "metadata": {},
   "outputs": [
    {
     "name": "stdout",
     "output_type": "stream",
     "text": [
      "Enter a num :56\n",
      "Enter a num :76\n",
      "Enter a num :54\n",
      "Enter a num :45\n",
      "Enter a num :78\n",
      "student is passed\n"
     ]
    }
   ],
   "source": [
    "s1 = int(input(\"Enter a num :\"))\n",
    "s2 = int(input(\"Enter a num :\"))\n",
    "s3 = int(input(\"Enter a num :\"))\n",
    "s4 = int(input(\"Enter a num :\"))\n",
    "s5 = int(input(\"Enter a num :\"))\n",
    "if s1<26 or s2<26 or s3<26 or s4<26 or s5<26 and ((s1+s2+s3+s4+s5)/5)<34:\n",
    "    print(\"student is failed\")\n",
    "else:\n",
    "    print(\"student is passed\")"
   ]
  },
  {
   "cell_type": "code",
   "execution_count": 14,
   "id": "f0bf78c6",
   "metadata": {},
   "outputs": [
    {
     "name": "stdout",
     "output_type": "stream",
     "text": [
      "Enter a num :5\n",
      "input enter marks45\n",
      "pass\n",
      "input enter marks65\n",
      "pass\n",
      "input enter marks78\n",
      "pass\n",
      "input enter marks65\n",
      "pass\n",
      "input enter marks6\n",
      "fail\n"
     ]
    }
   ],
   "source": [
    "a = int(input(\"Enter a num :\"))\n",
    "for i in range(a):\n",
    "    sub = int(input(\"input enter marks\"))\n",
    "    if sub >= 26:\n",
    "        print(\"pass\")\n",
    "    else:\n",
    "        print(\"fail\")"
   ]
  },
  {
   "cell_type": "code",
   "execution_count": 39,
   "id": "db88f03b",
   "metadata": {},
   "outputs": [
    {
     "name": "stdout",
     "output_type": "stream",
     "text": [
      "Enter a alphabet :e\n",
      "vowel\n"
     ]
    }
   ],
   "source": [
    "# condition to check the character is vowel\n",
    "\n",
    "alpha = input(\"Enter a alphabet :\")\n",
    "if alpha == \"a\" or alpha == \"e\" or alpha == \"i\" or alpha == \"o\" or alpha == \"u\":\n",
    "    print(\"vowel\")\n",
    "else:\n",
    "    print(\"not\")"
   ]
  },
  {
   "cell_type": "code",
   "execution_count": 28,
   "id": "8736d3f9",
   "metadata": {},
   "outputs": [
    {
     "name": "stdout",
     "output_type": "stream",
     "text": [
      "Enter a alphabet :S\n",
      "alpha is in uppercase\n"
     ]
    }
   ],
   "source": [
    "# condition to check the character is in uppercase or not\n",
    "\n",
    "alpha = input(\"Enter a alphabet :\")\n",
    "if alpha > chr(65) and alpha < chr(91) :\n",
    "    print(\"alpha is in uppercase\")\n",
    "else:\n",
    "    print(\"alpha is in lower case\")"
   ]
  },
  {
   "cell_type": "code",
   "execution_count": 40,
   "id": "cef6b3b2",
   "metadata": {},
   "outputs": [
    {
     "name": "stdout",
     "output_type": "stream",
     "text": [
      "Enter a num :8\n",
      "it is a digit\n"
     ]
    }
   ],
   "source": [
    "# condition to check the character is digit\n",
    "\n",
    "s = int(input(\"Enter a num :\"))\n",
    "if s >= 0 or s<=0:\n",
    "    print(\"it is a digit\")\n",
    "else:\n",
    "    print(\"enter crt value\")"
   ]
  },
  {
   "cell_type": "code",
   "execution_count": 47,
   "id": "28f92c2d",
   "metadata": {},
   "outputs": [
    {
     "name": "stdout",
     "output_type": "stream",
     "text": [
      "Enter a alphabet :A\n",
      "alphabet\n"
     ]
    }
   ],
   "source": [
    "# condition to check the character is alphabet\n",
    "\n",
    "alpha = input(\"Enter a alphabet :\")\n",
    "if alpha >= chr(65) and alpha <= chr(120):\n",
    "    print(\"alphabet\")\n",
    "else:\n",
    "    print(\"enter correct alphabet\")"
   ]
  },
  {
   "cell_type": "code",
   "execution_count": 49,
   "id": "9e8ff2be",
   "metadata": {},
   "outputs": [
    {
     "name": "stdout",
     "output_type": "stream",
     "text": [
      "Enter a num :#\n",
      "it is a special symbol\n"
     ]
    }
   ],
   "source": [
    "# condition to check it is special symbol\n",
    "\n",
    "s = input(\"Enter a num :\")\n",
    "if s >= chr(33) and s <= chr(47):\n",
    "    print(\"it is a special symbol\")\n",
    "else:\n",
    "    print(\"enter crt input\")"
   ]
  },
  {
   "cell_type": "code",
   "execution_count": 54,
   "id": "9fa6c908",
   "metadata": {},
   "outputs": [
    {
     "name": "stdout",
     "output_type": "stream",
     "text": [
      "Enter a num :1\n",
      "Enter a num :2\n",
      "Enter a num :3\n",
      "not equal\n"
     ]
    }
   ],
   "source": [
    "# condition to check the 3 nums are equal\n",
    "\n",
    "s1 = int(input(\"Enter a num :\"))\n",
    "s2 = int(input(\"Enter a num :\"))\n",
    "s3 = int(input(\"Enter a num :\"))\n",
    "if s1 == s2 == s3:\n",
    "    print(\"three number are equal\")\n",
    "else:\n",
    "    print(\"not equal\")"
   ]
  },
  {
   "cell_type": "code",
   "execution_count": 58,
   "id": "0ca219a6",
   "metadata": {},
   "outputs": [
    {
     "name": "stdout",
     "output_type": "stream",
     "text": [
      "Enter a num :1\n",
      "Enter a num :1\n",
      "Enter a num :1\n",
      "1 1 1 two numbers are equal among three\n"
     ]
    }
   ],
   "source": [
    "# to check any 2 are equal among 3 nums\n",
    "s1 = int(input(\"Enter a num :\"))\n",
    "s2 = int(input(\"Enter a num :\"))\n",
    "s3 = int(input(\"Enter a num :\"))\n",
    "if s1 == s2 or s2 == s3 or s3 == s1:\n",
    "    print(s1,s2,s3,\"two numbers are equal among three\")\n",
    "else:\n",
    "    print(\"not equal\")"
   ]
  },
  {
   "cell_type": "code",
   "execution_count": 59,
   "id": "d4cb4271",
   "metadata": {},
   "outputs": [
    {
     "name": "stdout",
     "output_type": "stream",
     "text": [
      "Enter a num :1\n",
      "Enter a num :2\n",
      "Enter a num :3\n",
      "1 2 3 are unique\n"
     ]
    }
   ],
   "source": [
    "# condition to check the 3 numbers are unique\n",
    "\n",
    "s1 = int(input(\"Enter a num :\"))\n",
    "s2 = int(input(\"Enter a num :\"))\n",
    "s3 = int(input(\"Enter a num :\"))\n",
    "if s1 != s2 != s3:\n",
    "    print(s1,s2,s3,\"are unique\")\n",
    "else:\n",
    "    print(\"not unique\")"
   ]
  },
  {
   "cell_type": "code",
   "execution_count": null,
   "id": "1bbe19c5",
   "metadata": {},
   "outputs": [],
   "source": []
  }
 ],
 "metadata": {
  "kernelspec": {
   "display_name": "Python 3 (ipykernel)",
   "language": "python",
   "name": "python3"
  },
  "language_info": {
   "codemirror_mode": {
    "name": "ipython",
    "version": 3
   },
   "file_extension": ".py",
   "mimetype": "text/x-python",
   "name": "python",
   "nbconvert_exporter": "python",
   "pygments_lexer": "ipython3",
   "version": "3.11.0"
  }
 },
 "nbformat": 4,
 "nbformat_minor": 5
}
